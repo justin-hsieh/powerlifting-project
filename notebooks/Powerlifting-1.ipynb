{
 "cells": [
  {
   "cell_type": "code",
   "execution_count": null,
   "metadata": {},
   "outputs": [],
   "source": [
    "import pandas as pd\n",
    "import numpy as np\n",
    "import category_encoders as ce\n",
    "import shap\n",
    "import eli5\n",
    "from eli5.sklearn import PermutationImportance\n",
    "from scipy.stats import randint, uniform\n",
    "from sklearn.pipeline import make_pipeline\n",
    "from xgboost import XGBRegressor\n",
    "from sklearn.metrics import mean_absolute_error,mean_squared_error\n",
    "from sklearn.ensemble import RandomForestRegressor\n",
    "from sklearn.model_selection import train_test_split\n",
    "from sklearn.model_selection import GridSearchCV, RandomizedSearchCV"
   ]
  },
  {
   "cell_type": "code",
   "execution_count": 2,
   "metadata": {
    "scrolled": true
   },
   "outputs": [],
   "source": [
    "df = pd.read_csv('https://raw.githubusercontent.com/justin-hsieh/powerlifting-project/master/file6.csv')\n",
    "df = df.drop(columns='Unnamed: 0')\n",
    "\n",
    "df.head()\n"
   ]
  },
  {
   "cell_type": "code",
   "execution_count": 3,
   "metadata": {},
   "outputs": [
    {
     "data": {
      "text/plain": [
       "((320788, 5), (80198, 5))"
      ]
     },
     "execution_count": 3,
     "metadata": {},
     "output_type": "execute_result"
    }
   ],
   "source": [
    "X_train, X_test  = train_test_split(df, test_size=0.20,  \n",
    "                              random_state=42)\n",
    "X_train.shape, X_test.shape"
   ]
  },
  {
   "cell_type": "code",
   "execution_count": 4,
   "metadata": {},
   "outputs": [],
   "source": [
    "def wrangle(df):\n",
    "    df = df.copy()\n",
    "    df['Sex'] = df['Sex'].astype(str)\n",
    "    df['Sex'] = df['Sex'].map({'M':0,'F':1})\n",
    "    \n",
    "    df['Equipment'] = df['Equipment'].astype(str)\n",
    "    df['Equipment'] = df['Equipment'].map({\n",
    "                                                'Raw':0,'Single-ply':1,\n",
    "                                                'Wraps':2,'Multi-ply':3\n",
    "                                              })\n",
    "    \n",
    "    print(df.shape)\n",
    "    return df\n",
    "    "
   ]
  },
  {
   "cell_type": "code",
   "execution_count": 5,
   "metadata": {},
   "outputs": [
    {
     "name": "stdout",
     "output_type": "stream",
     "text": [
      "(320788, 5)\n",
      "(80198, 5)\n"
     ]
    }
   ],
   "source": [
    "Xtrain = wrangle(X_train)\n",
    "Xtest = wrangle(X_test)\n",
    "\n",
    "\n",
    "target = 'TotalKg'\n",
    "\n",
    "X_train = Xtrain.drop(columns=target)\n",
    "y_train = Xtrain[target]\n",
    "X_test = Xtest.drop(columns=target)\n",
    "y_test = Xtest[target]"
   ]
  },
  {
   "cell_type": "code",
   "execution_count": 12,
   "metadata": {},
   "outputs": [],
   "source": [
    "pipeline = make_pipeline(\n",
    "     RandomForestRegressor(max_depth=10,\n",
    "                           random_state=42,\n",
    "                           max_features=0.07968793248374506,\n",
    "                           n_estimators=103,\n",
    "                           n_jobs=-1\n",
    "                        )\n",
    ")\n",
    "\n"
   ]
  },
  {
   "cell_type": "code",
   "execution_count": 13,
   "metadata": {},
   "outputs": [
    {
     "name": "stdout",
     "output_type": "stream",
     "text": [
      "Test MAE 67.6608299321711\n"
     ]
    }
   ],
   "source": [
    "model = pipeline.fit(X_train,y_train)\n",
    "\n",
    "y_pred = model.predict(X_test)\n",
    "mae = mean_absolute_error(y_test, y_pred)\n",
    "print('Test MAE', mae)"
   ]
  },
  {
   "cell_type": "code",
   "execution_count": 14,
   "metadata": {},
   "outputs": [
    {
     "data": {
      "text/html": [
       "['model.joblib']"
      ],
      "text/plain": [
       "['model.joblib']"
      ]
     },
     "execution_count": 14,
     "metadata": {},
     "output_type": "execute_result"
    }
   ],
   "source": [
    "def predict(Sex, Age, Bodyweight, Equipment):\n",
    "    df = pd.Dataframe(\n",
    "        data=[[Sex,Equipment,Age,BodyweightKg]],\n",
    "        \n",
    "        columns=['Sex','Equipment','Age','Bodyweight']\n",
    "                    )\n",
    "    \n",
    "    pred = model.predict(df)[0]\n",
    "    \n",
    "    result = f'Based on the inputs, your predicted place is: {pred:,.0f}\\n\\n'\n",
    "        \n",
    "    return result\n",
    "    \n",
    "from joblib import dump\n",
    "dump(model, 'model.joblib')"
   ]
  },
  {
   "cell_type": "code",
   "execution_count": null,
   "metadata": {},
   "outputs": [],
   "source": []
  }
 ],
 "metadata": {
  "kernelspec": {
   "display_name": "Python 3",
   "language": "python",
   "name": "python3"
  },
  "language_info": {
   "codemirror_mode": {
    "name": "ipython",
    "version": 3
   },
   "file_extension": ".py",
   "mimetype": "text/x-python",
   "name": "python",
   "nbconvert_exporter": "python",
   "pygments_lexer": "ipython3",
   "version": "3.7.4"
  }
 },
 "nbformat": 4,
 "nbformat_minor": 4
}
